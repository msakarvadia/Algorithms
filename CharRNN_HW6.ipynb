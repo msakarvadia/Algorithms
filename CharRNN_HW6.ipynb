{
  "nbformat": 4,
  "nbformat_minor": 0,
  "metadata": {
    "colab": {
      "name": "CharRNN - HW6",
      "provenance": [],
      "collapsed_sections": [
        "hUGtfyrbe6Fd",
        "xcYKWJPuffOV",
        "pJawX4To-NXi",
        "fBjMa6hnYLwu"
      ]
    },
    "kernelspec": {
      "name": "python3",
      "display_name": "Python 3"
    },
    "accelerator": "GPU"
  },
  "cells": [
    {
      "cell_type": "markdown",
      "metadata": {
        "id": "t2hPDx3Tvh0v"
      },
      "source": [
        "# Homework 6\n",
        "\n",
        "In this homework you will be training and using a \"char-RNN\". This is the name given to a character-level recurrent neural network language model by [this famous blog post by Andrej Karpathy](http://karpathy.github.io/2015/05/21/rnn-effectiveness/). Before you start on the rest of the homework, please give the blog post a read, it's quite good!\n",
        "\n",
        "I don't expect you to implement the char-RNN from scratch. Andrej's original char-rnn is in Torch (the predecessor to PyTorch that is not commonly used anymore). Fortunately, there are many other implementations of this model available; for example, there is one (in both mxnet and pytorch) in chapters 8 and 9 of [the textbook](http://d2l.ai), and another pytorch one [here](https://github.com/spro/char-rnn.pytorch). **Please use one of these example implementations (or another one that you find) when completing this homework**.\n",
        "\n",
        "For this homework, please complete the following steps:\n",
        "\n",
        "1. Download and tokenize the [Shakespeare dataset](http://www.gutenberg.org/files/100/100-0.txt) at a character level. I recommend basing your solution on the following code:\n",
        "```Python\n",
        "# Remove non-alphabetical characters, lowercase, and replace whitespace with ' '\n",
        "raw_dataset = ' '.join(re.sub('[^A-Za-z]+','', text).lower().split())\n",
        "# Maps token index to character\n",
        "idx_to_char = list(set(raw_dataset))\n",
        "# Maps character to token index\n",
        "char_to_idx = dict([(char, i) for i, char in enumerate(idx_to_char)])\n",
        "# Tokenize the dataset\n",
        "corpus_indices = [char_to_idx[char] for char in raw_dataset]\n",
        "```\n",
        "1. Train a \"vanilla\" RNN (as described in chapter 8 of [the textbook](http://d2l.ai)) on the Shakespeare dataset. Report the training loss and generate some samples from the model at the end of training.\n",
        "1. Train a GRU RNN (as described in chapter 9 of [the textbook](http://d2l.ai)) on the Shakespeare datatset. Is the final training loss higher or lower than the vanilla RNN? Are the samples from the model more or less realistic?\n",
        "1. Find a smaller, simpler dataset than the Shakespeare data (you can find some ideas in Andrej's blog post, but feel free to get creative!) and train either the vanilla or GRU RNN on it instead. Is the final training loss higher or lower than it was for the Shakespeare data?"
      ]
    },
    {
      "cell_type": "markdown",
      "metadata": {
        "id": "hUGtfyrbe6Fd"
      },
      "source": [
        "# #1 Dataset"
      ]
    },
    {
      "cell_type": "code",
      "metadata": {
        "id": "yAfgV9YHe5ae"
      },
      "source": [
        "!pip install -q tqdm\r\n",
        "from tqdm import tqdm"
      ],
      "execution_count": 25,
      "outputs": []
    },
    {
      "cell_type": "code",
      "metadata": {
        "id": "w5kjSTJHfIH_"
      },
      "source": [
        "import torch\r\n",
        "import math\r\n",
        "import torch.nn as nn\r\n",
        "import torch.optim as optim\r\n",
        "import torch.nn.functional as F\r\n",
        "import torch.backends.cudnn as cudnn\r\n",
        "import torchvision\r\n",
        "import numpy as np\r\n",
        "import matplotlib.pyplot as plt\r\n",
        "from torch.autograd import Variable\r\n",
        "import torchvision.transforms as transforms\r\n",
        "from IPython import display\r\n",
        "import time\r\n",
        "from string import ascii_lowercase\r\n",
        "from string import ascii_uppercase"
      ],
      "execution_count": 26,
      "outputs": []
    },
    {
      "cell_type": "code",
      "metadata": {
        "id": "k7dVCogafKeD"
      },
      "source": [
        "use_cuda = False"
      ],
      "execution_count": 27,
      "outputs": []
    },
    {
      "cell_type": "code",
      "metadata": {
        "colab": {
          "base_uri": "https://localhost:8080/"
        },
        "id": "SdDSV8IlfMQ5",
        "outputId": "b410419f-9ade-4f5d-ec43-9e0313077a94"
      },
      "source": [
        "import requests\r\n",
        "import string\r\n",
        "import random\r\n",
        "\r\n",
        "all_characters = string.printable\r\n",
        "n_characters = len(all_characters)\r\n",
        "\r\n",
        "def DownloadFile(url):\r\n",
        "    local_filename = url.split('/')[-1]\r\n",
        "    r = requests.get(url)\r\n",
        "    return r.text\r\n",
        "\r\n",
        "def char_tensor(string):\r\n",
        "    tensor = torch.zeros(len(string)).long()\r\n",
        "    for c in range(len(string)):\r\n",
        "        try:\r\n",
        "            tensor[c] = all_characters.index(string[c])\r\n",
        "        except:\r\n",
        "            continue\r\n",
        "    return tensor  \r\n",
        "\r\n",
        "def random_training_set(chunk_len, batch_size, file):\r\n",
        "    inp = torch.LongTensor(batch_size, chunk_len)\r\n",
        "    target = torch.LongTensor(batch_size, chunk_len)\r\n",
        "    for bi in range(batch_size):\r\n",
        "        start_index = random.randint(0, len(file) - chunk_len)\r\n",
        "        end_index = start_index + chunk_len + 1\r\n",
        "        chunk = file[start_index:end_index]\r\n",
        "        inp[bi] = char_tensor(chunk[:-1])\r\n",
        "        target[bi] = char_tensor(chunk[1:])\r\n",
        "    inp = Variable(inp)\r\n",
        "    target = Variable(target)\r\n",
        "    if use_cuda:\r\n",
        "        inp = inp.cuda()\r\n",
        "        target = target.cuda()\r\n",
        "    return inp, target\r\n",
        "\r\n",
        "def time_since(since):\r\n",
        "    s = time.time() - since\r\n",
        "    m = math.floor(s / 60)\r\n",
        "    s -= m * 60\r\n",
        "    return '%dm %ds' % (m, s)\r\n",
        "  \r\n",
        "target_url = \"https://raw.githubusercontent.com/cos495/code/master/shakespeare.txt\"\r\n",
        "data = DownloadFile(target_url)\r\n",
        "#print(random_training_set(10, 8, data))\r\n",
        "print(data[10:100])"
      ],
      "execution_count": 28,
      "outputs": [
        {
          "output_type": "stream",
          "text": [
            "zen:\n",
            "Before we proceed any further, hear me speak.\n",
            "\n",
            "All:\n",
            "Speak, speak.\n",
            "\n",
            "First Citizen:\n",
            "You\n"
          ],
          "name": "stdout"
        }
      ]
    },
    {
      "cell_type": "markdown",
      "metadata": {
        "id": "nMDDua9CfTIR"
      },
      "source": [
        "# #2 Vanilla RNN"
      ]
    },
    {
      "cell_type": "code",
      "metadata": {
        "id": "eOeWcraLfWEd"
      },
      "source": [
        "# https://github.com/spro/char-rnn.pytorch\r\n",
        "class CharRNN(nn.Module):\r\n",
        "    def __init__(self, input_size, hidden_size, output_size, model=\"rnn\", n_layers=1):\r\n",
        "        super(CharRNN, self).__init__()\r\n",
        "        self.model = model.lower()\r\n",
        "        self.input_size = input_size\r\n",
        "        self.hidden_size = hidden_size\r\n",
        "        self.output_size = output_size\r\n",
        "        self.n_layers = n_layers\r\n",
        "\r\n",
        "        self.encoder = nn.Embedding(input_size, hidden_size)\r\n",
        "        self.rnn = nn.RNN(hidden_size, hidden_size, n_layers)\r\n",
        "        if model==\"lstm\":\r\n",
        "          self.rnn = nn.LSTM(hidden_size, hidden_size, n_layers)\r\n",
        "        if model==\"gru\":\r\n",
        "          self.rnn = nn.GRU(hidden_size, hidden_size, n_layers)\r\n",
        "          \r\n",
        "        self.decoder = nn.Linear(hidden_size, output_size)\r\n",
        "\r\n",
        "    def forward(self, input, hidden):\r\n",
        "        batch_size = input.size(0)       \r\n",
        "        encoded = self.encoder(input)\r\n",
        "        output, hidden = self.rnn(encoded.view(1, batch_size, -1), hidden)\r\n",
        "        output = self.decoder(output.view(batch_size, -1))\r\n",
        "        return output, hidden\r\n",
        "\r\n",
        "    def init_hidden(self, batch_size):\r\n",
        "        if self.model == \"lstm\":\r\n",
        "            return (Variable(torch.zeros(self.n_layers, batch_size, self.hidden_size)),\r\n",
        "                    Variable(torch.zeros(self.n_layers, batch_size, self.hidden_size)))\r\n",
        "        return Variable(torch.zeros(self.n_layers, batch_size, self.hidden_size))"
      ],
      "execution_count": 29,
      "outputs": []
    },
    {
      "cell_type": "markdown",
      "metadata": {
        "id": "xcYKWJPuffOV"
      },
      "source": [
        "###Initialize Model"
      ]
    },
    {
      "cell_type": "code",
      "metadata": {
        "id": "Yz7WhJMIfZQJ"
      },
      "source": [
        "hidden_size = 100\r\n",
        "learning_rate = 0.01\r\n",
        "cell = \"rnn\"\r\n",
        "n_layers = 2\r\n",
        "\r\n",
        "decoder = CharRNN(\r\n",
        "    n_characters,\r\n",
        "    hidden_size,\r\n",
        "    n_characters,\r\n",
        "    model=cell,\r\n",
        "    n_layers=n_layers,\r\n",
        ")\r\n",
        "decoder_optimizer = torch.optim.Adam(decoder.parameters(), lr=learning_rate)\r\n",
        "criterion = nn.CrossEntropyLoss()\r\n",
        "\r\n",
        "if use_cuda:\r\n",
        "    decoder.cuda()"
      ],
      "execution_count": 30,
      "outputs": []
    },
    {
      "cell_type": "code",
      "metadata": {
        "id": "MluhOww7fitX"
      },
      "source": [
        "n_epochs = 2000\r\n",
        "chunk_len = 200\r\n",
        "print_every = 100\r\n",
        "batch_size = 100"
      ],
      "execution_count": 31,
      "outputs": []
    },
    {
      "cell_type": "code",
      "metadata": {
        "id": "sFojnv1VfkYu"
      },
      "source": [
        "def train(inp, target):\r\n",
        "    hidden = decoder.init_hidden(batch_size)\r\n",
        "    if use_cuda:\r\n",
        "        hidden = hidden.cuda()\r\n",
        "    decoder.zero_grad()\r\n",
        "    loss = 0\r\n",
        "\r\n",
        "    for c in range(chunk_len):\r\n",
        "        output, hidden = decoder(inp[:,c], hidden)\r\n",
        "        loss += criterion(output.view(batch_size, -1), target[:,c])\r\n",
        "\r\n",
        "    loss.backward()\r\n",
        "    decoder_optimizer.step()\r\n",
        "\r\n",
        "    #Old version (doesn't support zero indexing)\r\n",
        "    #return loss.data[0] / chunk_len\r\n",
        "    return loss.data / chunk_len"
      ],
      "execution_count": 32,
      "outputs": []
    },
    {
      "cell_type": "markdown",
      "metadata": {
        "id": "6n5Rt47ffs7g"
      },
      "source": [
        "###Generate Text"
      ]
    },
    {
      "cell_type": "code",
      "metadata": {
        "id": "r400OOwcfuP-"
      },
      "source": [
        "def generate(decoder, prime_str='A', predict_len=100, temperature=0.8, cuda=False):\r\n",
        "    hidden = decoder.init_hidden(1)\r\n",
        "    prime_input = Variable(char_tensor(prime_str).unsqueeze(0))\r\n",
        "\r\n",
        "    if cuda:\r\n",
        "        hidden = hidden.cuda()\r\n",
        "        prime_input = prime_input.cuda()\r\n",
        "    predicted = prime_str\r\n",
        "\r\n",
        "    # Use priming string to \"build up\" hidden state\r\n",
        "    for p in range(len(prime_str) - 1):\r\n",
        "        _, hidden = decoder(prime_input[:,p], hidden)\r\n",
        "        \r\n",
        "    inp = prime_input[:,-1]\r\n",
        "    \r\n",
        "    for p in range(predict_len):\r\n",
        "        output, hidden = decoder(inp, hidden)\r\n",
        "        \r\n",
        "        # Sample from the network as a multinomial distribution\r\n",
        "        output_dist = output.data.view(-1).div(temperature).exp()\r\n",
        "        top_i = torch.multinomial(output_dist, 1)[0]\r\n",
        "\r\n",
        "        # Add predicted character to string and use as next input\r\n",
        "        predicted_char = all_characters[top_i]\r\n",
        "        predicted += predicted_char\r\n",
        "        inp = Variable(char_tensor(predicted_char).unsqueeze(0))\r\n",
        "        if cuda:\r\n",
        "            inp = inp.cuda()\r\n",
        "\r\n",
        "    return predicted"
      ],
      "execution_count": 33,
      "outputs": []
    },
    {
      "cell_type": "code",
      "metadata": {
        "colab": {
          "base_uri": "https://localhost:8080/"
        },
        "id": "3JnqimCkfxEH",
        "outputId": "5de32b3d-0bca-465f-fbe7-034cff05962e"
      },
      "source": [
        "start = time.time()\r\n",
        "all_losses = []\r\n",
        "loss_avg = 0\r\n",
        "\r\n",
        "print(\"Training for %d epochs...\" % n_epochs)\r\n",
        "for epoch in tqdm(range(1, n_epochs + 1)):\r\n",
        "    loss = train(*random_training_set(chunk_len, batch_size, data))\r\n",
        "    loss_avg += loss\r\n",
        "    all_losses.append(loss.item())\r\n",
        "    if epoch % print_every == 0:\r\n",
        "        print('[%s (%d %d%%) %.4f]' % (time_since(start), epoch, epoch / n_epochs * 100, loss))\r\n",
        "        print('loss: ', loss)\r\n",
        "        print(generate(decoder, 'Wh', 100, cuda=use_cuda), '\\n')"
      ],
      "execution_count": 34,
      "outputs": [
        {
          "output_type": "stream",
          "text": [
            "\r  0%|          | 0/2000 [00:00<?, ?it/s]"
          ],
          "name": "stderr"
        },
        {
          "output_type": "stream",
          "text": [
            "Training for 2000 epochs...\n"
          ],
          "name": "stdout"
        },
        {
          "output_type": "stream",
          "text": [
            "  5%|▌         | 100/2000 [00:42<13:56,  2.27it/s]"
          ],
          "name": "stderr"
        },
        {
          "output_type": "stream",
          "text": [
            "[0m 42s (100 5%) 1.8123]\n",
            "loss:  tensor(1.8123)\n",
            "Where priath and nrield did\n",
            "Of in'le your grown hother thy hear not are dulse to I with thle\n",
            "I his don \n",
            "\n"
          ],
          "name": "stdout"
        },
        {
          "output_type": "stream",
          "text": [
            " 10%|█         | 200/2000 [01:25<13:05,  2.29it/s]"
          ],
          "name": "stderr"
        },
        {
          "output_type": "stream",
          "text": [
            "[1m 25s (200 10%) 1.6499]\n",
            "loss:  tensor(1.6499)\n",
            "Why heart, sir he reack and look;\n",
            "The would where a deather ears and deverdst theal.\n",
            "\n",
            "CORIOLANUS:\n",
            "Ay h \n",
            "\n"
          ],
          "name": "stdout"
        },
        {
          "output_type": "stream",
          "text": [
            " 15%|█▌        | 300/2000 [02:08<12:21,  2.29it/s]"
          ],
          "name": "stderr"
        },
        {
          "output_type": "stream",
          "text": [
            "[2m 8s (300 15%) 1.5875]\n",
            "loss:  tensor(1.5875)\n",
            "Whost and stands it rave thought thou have now, I standing better the knovendering by tilloust shall c \n",
            "\n"
          ],
          "name": "stdout"
        },
        {
          "output_type": "stream",
          "text": [
            " 20%|██        | 400/2000 [02:51<11:49,  2.26it/s]"
          ],
          "name": "stderr"
        },
        {
          "output_type": "stream",
          "text": [
            "[2m 50s (400 20%) 1.5427]\n",
            "loss:  tensor(1.5427)\n",
            "Whose not say, methou the day fear the brink, for that should on the laper thou guetion:\n",
            "Yet this come \n",
            "\n"
          ],
          "name": "stdout"
        },
        {
          "output_type": "stream",
          "text": [
            " 25%|██▌       | 500/2000 [03:33<11:02,  2.26it/s]"
          ],
          "name": "stderr"
        },
        {
          "output_type": "stream",
          "text": [
            "[3m 33s (500 25%) 1.4994]\n",
            "loss:  tensor(1.4994)\n",
            "When bead;\n",
            "If you speak, they hath some shund the be he leavens to dome his hards made that so fancent \n",
            "\n"
          ],
          "name": "stdout"
        },
        {
          "output_type": "stream",
          "text": [
            " 30%|███       | 600/2000 [04:16<10:07,  2.30it/s]"
          ],
          "name": "stderr"
        },
        {
          "output_type": "stream",
          "text": [
            "[4m 16s (600 30%) 1.5446]\n",
            "loss:  tensor(1.5446)\n",
            "Where the sorrow your mart with that we shall would speak, and this good unchard, as our day,\n",
            "see hait \n",
            "\n"
          ],
          "name": "stdout"
        },
        {
          "output_type": "stream",
          "text": [
            " 35%|███▌      | 700/2000 [04:58<09:19,  2.32it/s]"
          ],
          "name": "stderr"
        },
        {
          "output_type": "stream",
          "text": [
            "[4m 58s (700 35%) 1.5057]\n",
            "loss:  tensor(1.5057)\n",
            "Which sin; it would ever blown of her smiler madred men one till supplicing,\n",
            "That shall nays,\n",
            "Plear of \n",
            "\n"
          ],
          "name": "stdout"
        },
        {
          "output_type": "stream",
          "text": [
            " 40%|████      | 800/2000 [05:40<08:36,  2.32it/s]"
          ],
          "name": "stderr"
        },
        {
          "output_type": "stream",
          "text": [
            "[5m 40s (800 40%) 1.4852]\n",
            "loss:  tensor(1.4852)\n",
            "Which none inteing friend,\n",
            "And hence, in you, married?\n",
            "\n",
            "ROMEO:\n",
            "Go there hang thou wish, when thou she  \n",
            "\n"
          ],
          "name": "stdout"
        },
        {
          "output_type": "stream",
          "text": [
            " 45%|████▌     | 900/2000 [06:22<07:57,  2.30it/s]"
          ],
          "name": "stderr"
        },
        {
          "output_type": "stream",
          "text": [
            "[6m 22s (900 45%) 1.4988]\n",
            "loss:  tensor(1.4988)\n",
            "Which I know, empoor may did not shall never with was no forget in your grief;\n",
            "And not come my body: a \n",
            "\n"
          ],
          "name": "stdout"
        },
        {
          "output_type": "stream",
          "text": [
            " 50%|█████     | 1000/2000 [07:05<07:12,  2.31it/s]"
          ],
          "name": "stderr"
        },
        {
          "output_type": "stream",
          "text": [
            "[7m 5s (1000 50%) 1.4949]\n",
            "loss:  tensor(1.4949)\n",
            "Whilst some sons the love\n",
            "Is you and africe,\n",
            "Where was this to this be curst thou follow is favours:\n",
            "C \n",
            "\n"
          ],
          "name": "stdout"
        },
        {
          "output_type": "stream",
          "text": [
            " 55%|█████▌    | 1100/2000 [07:47<06:28,  2.32it/s]"
          ],
          "name": "stderr"
        },
        {
          "output_type": "stream",
          "text": [
            "[7m 47s (1100 55%) 1.4868]\n",
            "loss:  tensor(1.4868)\n",
            "Where mark him.\n",
            "\n",
            "ISABELLA:\n",
            "Convers with the watch, wounds good want, for your wor help but honesty.\n",
            "\n",
            "J \n",
            "\n"
          ],
          "name": "stdout"
        },
        {
          "output_type": "stream",
          "text": [
            " 60%|██████    | 1200/2000 [08:30<05:49,  2.29it/s]"
          ],
          "name": "stderr"
        },
        {
          "output_type": "stream",
          "text": [
            "[8m 30s (1200 60%) 1.4949]\n",
            "loss:  tensor(1.4949)\n",
            "What to your vuilla! one sun the desire in protors! and excenders\n",
            "beseech and to my son.\n",
            "\n",
            "GLOUCESTER:\n",
            " \n",
            "\n"
          ],
          "name": "stdout"
        },
        {
          "output_type": "stream",
          "text": [
            " 65%|██████▌   | 1300/2000 [09:13<04:59,  2.34it/s]"
          ],
          "name": "stderr"
        },
        {
          "output_type": "stream",
          "text": [
            "[9m 12s (1300 65%) 1.4807]\n",
            "loss:  tensor(1.4807)\n",
            "Where with dishmas for me, what thou hath my well:\n",
            "Laids.\n",
            "\n",
            "PRINCENTE:\n",
            "What is a bid that go thee weddo \n",
            "\n"
          ],
          "name": "stdout"
        },
        {
          "output_type": "stream",
          "text": [
            " 70%|███████   | 1400/2000 [09:55<04:19,  2.31it/s]"
          ],
          "name": "stderr"
        },
        {
          "output_type": "stream",
          "text": [
            "[9m 55s (1400 70%) 1.4247]\n",
            "loss:  tensor(1.4247)\n",
            "Where is the preparela, and my contrame forite whom in and of scove, sir.\n",
            "\n",
            "LUCENTIO:\n",
            "Who you seed.\n",
            "\n",
            "CO \n",
            "\n"
          ],
          "name": "stdout"
        },
        {
          "output_type": "stream",
          "text": [
            " 75%|███████▌  | 1500/2000 [10:38<03:42,  2.25it/s]"
          ],
          "name": "stderr"
        },
        {
          "output_type": "stream",
          "text": [
            "[10m 38s (1500 75%) 1.4568]\n",
            "loss:  tensor(1.4568)\n",
            "Where was both's son, with\n",
            "so lame.\n",
            "\n",
            "CLAUDIO:\n",
            "Why do this women a loss to the brother's person; but to \n",
            "\n"
          ],
          "name": "stdout"
        },
        {
          "output_type": "stream",
          "text": [
            " 80%|████████  | 1600/2000 [11:20<02:54,  2.29it/s]"
          ],
          "name": "stderr"
        },
        {
          "output_type": "stream",
          "text": [
            "[11m 20s (1600 80%) 1.4682]\n",
            "loss:  tensor(1.4682)\n",
            "Whom here\n",
            "wast sads use I should in the just themsious sight!\n",
            "\n",
            "YORK:\n",
            "It is my slaughter, when me to sa \n",
            "\n"
          ],
          "name": "stdout"
        },
        {
          "output_type": "stream",
          "text": [
            " 85%|████████▌ | 1700/2000 [12:03<02:12,  2.26it/s]"
          ],
          "name": "stderr"
        },
        {
          "output_type": "stream",
          "text": [
            "[12m 3s (1700 85%) 1.4761]\n",
            "loss:  tensor(1.4761)\n",
            "Whose our conselved unclews, stands as gather tack to term'd upon the basing of mine sadnted the other \n",
            "\n"
          ],
          "name": "stdout"
        },
        {
          "output_type": "stream",
          "text": [
            " 90%|█████████ | 1800/2000 [12:46<01:27,  2.29it/s]"
          ],
          "name": "stderr"
        },
        {
          "output_type": "stream",
          "text": [
            "[12m 46s (1800 90%) 1.4941]\n",
            "loss:  tensor(1.4941)\n",
            "When these the great blow a hungrows can my house the prest\n",
            "Being set your souls be another in Kate at \n",
            "\n"
          ],
          "name": "stdout"
        },
        {
          "output_type": "stream",
          "text": [
            " 95%|█████████▌| 1900/2000 [13:29<00:44,  2.26it/s]"
          ],
          "name": "stderr"
        },
        {
          "output_type": "stream",
          "text": [
            "[13m 29s (1900 95%) 1.4321]\n",
            "loss:  tensor(1.4321)\n",
            "What you contempt,\n",
            "Whilst you many and will not grace you in,\n",
            "break, from his complain,\n",
            "Make open to m \n",
            "\n"
          ],
          "name": "stdout"
        },
        {
          "output_type": "stream",
          "text": [
            "100%|██████████| 2000/2000 [14:12<00:00,  2.35it/s]"
          ],
          "name": "stderr"
        },
        {
          "output_type": "stream",
          "text": [
            "[14m 12s (2000 100%) 1.4686]\n",
            "loss:  tensor(1.4686)\n",
            "Where me\n",
            "The corn with him my good\n",
            "Cans and lapt, Jedue dost prison, still thus? like a cept's last an \n",
            "\n"
          ],
          "name": "stdout"
        },
        {
          "output_type": "stream",
          "text": [
            "\n"
          ],
          "name": "stderr"
        }
      ]
    },
    {
      "cell_type": "code",
      "metadata": {
        "id": "t15kKVtGtNcj",
        "colab": {
          "base_uri": "https://localhost:8080/",
          "height": 298
        },
        "outputId": "9c1ee2b6-560a-42e9-f723-7129a98affc7"
      },
      "source": [
        "#Graph of Loss over t\r\n",
        "x = range(len(all_losses))\r\n",
        "plt.title(\"Loss over training of Vanilla RNN\")\r\n",
        "plt.scatter(x, all_losses)"
      ],
      "execution_count": 35,
      "outputs": [
        {
          "output_type": "execute_result",
          "data": {
            "text/plain": [
              "<matplotlib.collections.PathCollection at 0x7f91c570a8d0>"
            ]
          },
          "metadata": {
            "tags": []
          },
          "execution_count": 35
        },
        {
          "output_type": "display_data",
          "data": {
            "image/png": "[encoded data removed]",
            "text/plain": [
              "<Figure size 432x288 with 1 Axes>"
            ]
          },
          "metadata": {
            "tags": [],
            "needs_background": "light"
          }
        }
      ]
    },
    {
      "cell_type": "markdown",
      "metadata": {
        "id": "fTEbnmpyf3Bp"
      },
      "source": [
        "###Smapling with high temperature"
      ]
    },
    {
      "cell_type": "code",
      "metadata": {
        "id": "jtjy6NwsfynP",
        "colab": {
          "base_uri": "https://localhost:8080/",
          "height": 35
        },
        "outputId": "a1a29af6-543e-4342-aef0-14ee1e114117"
      },
      "source": [
        "generate(decoder, prime_str=\"A\", temperature= 100, cuda=use_cuda)"
      ],
      "execution_count": 36,
      "outputs": [
        {
          "output_type": "execute_result",
          "data": {
            "application/vnd.google.colaboratory.intrinsic+json": {
              "type": "string"
            },
            "text/plain": [
              "'A!\\r}4?qdaZkzp;ZNb$f#gG7\\nA]pZh\\tM0C.tKXY;\\t[\\x0bU%/ +1S)m6M\\x0bm8UEn\\t-cjC\"OL ]Q3S4v7h^MgjR,s=Lv%K0VHTCs\\n_kc0G9'"
            ]
          },
          "metadata": {
            "tags": []
          },
          "execution_count": 36
        }
      ]
    },
    {
      "cell_type": "markdown",
      "metadata": {
        "id": "GtCNwQTGf8zv"
      },
      "source": [
        "###Sampling with low temperature"
      ]
    },
    {
      "cell_type": "code",
      "metadata": {
        "id": "MtzpdEOXf78s",
        "colab": {
          "base_uri": "https://localhost:8080/",
          "height": 35
        },
        "outputId": "91c4d582-884d-45b6-af47-78cf92894aef"
      },
      "source": [
        "generate(decoder, prime_str=\"A\", temperature= 1, cuda=use_cuda)\r\n",
        "#Note the \\n is a new line"
      ],
      "execution_count": 37,
      "outputs": [
        {
          "output_type": "execute_result",
          "data": {
            "application/vnd.google.colaboratory.intrinsic+json": {
              "type": "string"
            },
            "text/plain": [
              "\"And that I'll I rensers fiolass world.\\n\\nBENVOLIO:\\nGo word in degrace,\\nNot come, up no dear\\nHer straig\""
            ]
          },
          "metadata": {
            "tags": []
          },
          "execution_count": 37
        }
      ]
    },
    {
      "cell_type": "markdown",
      "metadata": {
        "id": "GNV-XXd6T--i"
      },
      "source": [
        "###Samples generated for lowercase and uppercase alphabet for Vanilla RNN"
      ]
    },
    {
      "cell_type": "code",
      "metadata": {
        "colab": {
          "base_uri": "https://localhost:8080/"
        },
        "id": "507IAylvT--j",
        "outputId": "5f6de083-827c-4f4e-ac0c-6413728d8bb6"
      },
      "source": [
        "for c in ascii_lowercase:\r\n",
        "  print(\"GENERATED SAMPLE FOR: \"+c)\r\n",
        "  print(generate(decoder, c, 100, cuda=use_cuda), '\\n')\r\n",
        "\r\n",
        "for c in ascii_uppercase:\r\n",
        "  print(\"GENERATED SAMPLE FOR: \"+c)\r\n",
        "  print(generate(decoder, c, 100, cuda=use_cuda), '\\n')"
      ],
      "execution_count": 38,
      "outputs": [
        {
          "output_type": "stream",
          "text": [
            "GENERATED SAMPLE FOR: a\n",
            "at.\n",
            "\n",
            "CAMILLO:\n",
            "Come\n",
            "A forgiverona to me 'band, my lord and tears,\n",
            "To makes am you are not ange to him  \n",
            "\n",
            "GENERATED SAMPLE FOR: b\n",
            "bere more art uneadenharn while of plantious majesty bearfue,\n",
            "He in borne you bears to me, and I thin \n",
            "\n",
            "GENERATED SAMPLE FOR: c\n",
            "compey.\n",
            "\n",
            "GREGORELHAS:\n",
            "Where hath brow, wherein the wine'st be deadly thee, my brother, my liege,\n",
            "And  \n",
            "\n",
            "GENERATED SAMPLE FOR: d\n",
            "d of ask and one but vilves,\n",
            "The tudgranted no, my foul on brout sooth to the world so sicken that wh \n",
            "\n",
            "GENERATED SAMPLE FOR: e\n",
            "e wrong must here's not men, it rims.\n",
            "\n",
            "CORIOLANUS:\n",
            "My man; good merry-reauty\n",
            "you make my brother's na \n",
            "\n",
            "GENERATED SAMPLE FOR: f\n",
            "fandity.\n",
            "\n",
            "MENENIUS:\n",
            "Now to hearts\n",
            "and her so? A duke, and thou hast, whose regot I have leave before  \n",
            "\n",
            "GENERATED SAMPLE FOR: g\n",
            "g?\n",
            "Ay,\n",
            "Speak out on home waking Marcius! less my dearly of Exgetuleets to power's chance it let that  \n",
            "\n",
            "GENERATED SAMPLE FOR: h\n",
            "here, but he now,\n",
            "The commands remain strong and fortune the dash them my liege; unfurs,\n",
            "For a dead d \n",
            "\n",
            "GENERATED SAMPLE FOR: i\n",
            "in the lords: my curse,\n",
            "And with my walls death!\n",
            "\n",
            "ESCALUS:\n",
            "I nouse, my lord, thou were shear make me, \n",
            "\n",
            "GENERATED SAMPLE FOR: j\n",
            "joy,\n",
            "But I woose heart, my eather tongue, that not to his larkern gates thee will be dead her be must \n",
            "\n",
            "GENERATED SAMPLE FOR: k\n",
            "k'\n",
            "Is eyes of this women with children?\n",
            "He with thee,\n",
            "Will the man for the old double me,\n",
            "My look'd w \n",
            "\n",
            "GENERATED SAMPLE FOR: l\n",
            "ll remureous to what I,\n",
            "With some fall old pardon.\n",
            "Kare mither. Come to the trample in the tribunes\n",
            "v \n",
            "\n",
            "GENERATED SAMPLE FOR: m\n",
            "movares by rage their hearts,\n",
            "Nor the cloudled once day be of makes to lose himself: you are\n",
            "No most  \n",
            "\n",
            "GENERATED SAMPLE FOR: n\n",
            "n's for therein speak farewell.\n",
            "\n",
            "BAPTISTA:\n",
            "Your looks this whip were his noble of compulied creasoner \n",
            "\n",
            "GENERATED SAMPLE FOR: o\n",
            "ost so, where is the white of all this never come to dischance my reonce and day be not top\n",
            "He must u \n",
            "\n",
            "GENERATED SAMPLE FOR: p\n",
            "pusing my houds the human:\n",
            "The lived, heaven no more of me a virchers? me and weally cheetre,\n",
            "And thi \n",
            "\n",
            "GENERATED SAMPLE FOR: q\n",
            "quor presence and speak of you I would a great as the revick'd thy envy bleedicged being me look the  \n",
            "\n",
            "GENERATED SAMPLE FOR: r\n",
            "r she\n",
            "The hand:\n",
            "From yourselve of your bore that fellows while.\n",
            "\n",
            "BRUTUS:\n",
            "Here you do you 'tis love as \n",
            "\n",
            "GENERATED SAMPLE FOR: s\n",
            "s bear these your action advised a tremperies.\n",
            "\n",
            "DUKE VINCENTIO:\n",
            "I am a son so this grace-setwen.\n",
            "\n",
            "NOR \n",
            "\n",
            "GENERATED SAMPLE FOR: t\n",
            "thou birk my lips?\n",
            "\n",
            "LADY GREY:\n",
            "I have more's brother sequired unto these loathe is the orside to be n \n",
            "\n",
            "GENERATED SAMPLE FOR: u\n",
            "ur name good and even, like to Romession, I siments in your grands of the boded in old woman is not t \n",
            "\n",
            "GENERATED SAMPLE FOR: v\n",
            "ven a brow, stand of mine town my newles beggars to ordoh sons' grow or thee.\n",
            "If I contet of my quarr \n",
            "\n",
            "GENERATED SAMPLE FOR: w\n",
            "ward of my tribunes at his war vipt talk the keasust affected: of this black,\n",
            "Than\n",
            "proclaim of my swe \n",
            "\n",
            "GENERATED SAMPLE FOR: x\n",
            "xect thou, Cemb'd strike,\n",
            "No instant, and will show'd wherein succes such a gentleman and no fearship \n",
            "\n",
            "GENERATED SAMPLE FOR: y\n",
            "y mark or shad; and I'll could stand on\n",
            "And then in a thee\n",
            "He's pity Richal and way at wark you a gra \n",
            "\n",
            "GENERATED SAMPLE FOR: z\n",
            "zery cousin and bark to the father's sorrow, as 'twrantred the Duke and this my master and here,\n",
            "Fort \n",
            "\n",
            "GENERATED SAMPLE FOR: A\n",
            "And good looks prove to the days, from up where hasgest both from my cotupfine\n",
            "Thou art be my fever,  \n",
            "\n",
            "GENERATED SAMPLE FOR: B\n",
            "BRAUSBY:\n",
            "Besies' tears the like their eter the great know to accurse salised,\n",
            "I was on his grace; and \n",
            "\n",
            "GENERATED SAMPLE FOR: C\n",
            "CINLBAN OF:\n",
            "He not be are one undert again?\n",
            "There hand she would speak I love\n",
            "Whose voices to shall t \n",
            "\n",
            "GENERATED SAMPLE FOR: D\n",
            "Do Julieth marks the throne in that all the childly in much he marry, are not not will would were lov \n",
            "\n",
            "GENERATED SAMPLE FOR: E\n",
            "ES. Then I would broad the lift prince some misfarm\n",
            "I'll be are a man for in why, with a grest;\n",
            "which \n",
            "\n",
            "GENERATED SAMPLE FOR: F\n",
            "F RICHARD III:\n",
            "Nor nothing to me, royal; where shooking of my sail, the dayer\n",
            "That say looks of the h \n",
            "\n",
            "GENERATED SAMPLE FOR: G\n",
            "Giment!\n",
            "\n",
            "KING EDWARD IV:\n",
            "Nows ways\n",
            "The half come form\n",
            "Unto him are fond with thee for him breath ther \n",
            "\n",
            "GENERATED SAMPLE FOR: H\n",
            "He meet to forthyed while his put him, give their war she would Charles mernighted my face.\n",
            "\n",
            "PAULINA: \n",
            "\n",
            "GENERATED SAMPLE FOR: I\n",
            "I spent was armed and work,\n",
            "Which he would seement with the wonder to now, where I'll not this madam, \n",
            "\n",
            "GENERATED SAMPLE FOR: J\n",
            "JOs officer,\n",
            "Are before thy lifter wife all the world neithad? hall the king-day father, and ears, I' \n",
            "\n",
            "GENERATED SAMPLE FOR: K\n",
            "KING RICHARD III:\n",
            "Show strike,\n",
            "Shall you had be harms arand speech were her Bolour and makes, his sla \n",
            "\n",
            "GENERATED SAMPLE FOR: L\n",
            "Live,\n",
            "And here it indeed?\n",
            "\n",
            "GUNELIUS:\n",
            "Now I, sir.\n",
            "\n",
            "CAMILLO:\n",
            "How done, of a death by the daughter?\n",
            "\n",
            "GLO \n",
            "\n",
            "GENERATED SAMPLE FOR: M\n",
            "MMuch entertain.\n",
            "Hath after his daughter, king, and when, sir, as to me,\n",
            "And hast! contert of their f \n",
            "\n",
            "GENERATED SAMPLE FOR: N\n",
            "NCENTIO:\n",
            "What she say your wenter remedy, I am all Henry is perceen, welcome, and warn your mistress  \n",
            "\n",
            "GENERATED SAMPLE FOR: O\n",
            "ORD:\n",
            "They when thee as the murfueless wonder hand.\n",
            "And a man my wars his false wise, what we malim'd: \n",
            "\n",
            "GENERATED SAMPLE FOR: P\n",
            "PETIO:\n",
            "Been\n",
            "Return.\n",
            "\n",
            "GONZALO:\n",
            "A sear down.\n",
            "\n",
            "CLARENCE:\n",
            "Do in the curse to prespooch.\n",
            "\n",
            "ANGELO:\n",
            "Look.\n",
            "\n",
            "N \n",
            "\n",
            "GENERATED SAMPLE FOR: Q\n",
            "QVORDY CAPULET:\n",
            "There's prophed and he now, unto my house hand, that repirith to privated of hand, ha \n",
            "\n",
            "GENERATED SAMPLE FOR: R\n",
            "RULIUS:\n",
            "The humilius, my lord;\n",
            "Longing, will not promity with that he can I swear in his one tears: b \n",
            "\n",
            "GENERATED SAMPLE FOR: S\n",
            "SAwn confushio word a woes an hopher now clear\n",
            "To tears made thy dead consent, my lord.\n",
            "\n",
            "AUFIDIUS:\n",
            "Ar \n",
            "\n",
            "GENERATED SAMPLE FOR: T\n",
            "T:\n",
            "As my actords,\n",
            "He knee? who well and lengtholdst being heart at it. What is this wrong unto the fo \n",
            "\n",
            "GENERATED SAMPLE FOR: U\n",
            "UD:\n",
            "Then, benefition access a minish'd the book for the strike\n",
            "Have not wearer have in eyes brave it  \n",
            "\n",
            "GENERATED SAMPLE FOR: V\n",
            "VI:\n",
            "This my father: I came my looks; how calls to hour of my frief grace in God on my York's wrong to \n",
            "\n",
            "GENERATED SAMPLE FOR: W\n",
            "Whoke my wrong your hope of goded of thy hands, me. I do this book of us she enborten or bear my hand \n",
            "\n",
            "GENERATED SAMPLE FOR: X\n",
            "XERES:\n",
            "Sovereign 'em, who show more for the bitter, were want hare to disposed up-cordats. God near o \n",
            "\n",
            "GENERATED SAMPLE FOR: Y\n",
            "Y, more grace, the daughter tell the wife, and they are stand again and betting conseival will not sa \n",
            "\n",
            "GENERATED SAMPLE FOR: Z\n",
            "ZAnd the ring for my man,\n",
            "And though you must you degracious stood an lived.\n",
            "\n",
            "CAMILLO:\n",
            "Why whose eye  \n",
            "\n"
          ],
          "name": "stdout"
        }
      ]
    },
    {
      "cell_type": "markdown",
      "metadata": {
        "id": "SDzKBnKVmruM"
      },
      "source": [
        "# #3 GRU RNN"
      ]
    },
    {
      "cell_type": "markdown",
      "metadata": {
        "id": "pJawX4To-NXi"
      },
      "source": [
        "###Initialize Model"
      ]
    },
    {
      "cell_type": "code",
      "metadata": {
        "id": "P0K0ohFh-NXu"
      },
      "source": [
        "hidden_size = 100\r\n",
        "learning_rate = 0.01\r\n",
        "cell = \"gru\"\r\n",
        "n_layers = 2\r\n",
        "\r\n",
        "decoder = CharRNN(\r\n",
        "    n_characters,\r\n",
        "    hidden_size,\r\n",
        "    n_characters,\r\n",
        "    model=cell,\r\n",
        "    n_layers=n_layers,\r\n",
        ")\r\n",
        "decoder_optimizer = torch.optim.Adam(decoder.parameters(), lr=learning_rate)\r\n",
        "criterion = nn.CrossEntropyLoss()\r\n",
        "\r\n",
        "if use_cuda:\r\n",
        "    decoder.cuda()"
      ],
      "execution_count": 39,
      "outputs": []
    },
    {
      "cell_type": "code",
      "metadata": {
        "id": "GOC2a71w-NXu"
      },
      "source": [
        "n_epochs = 2000\r\n",
        "chunk_len = 200\r\n",
        "print_every = 100\r\n",
        "batch_size = 100"
      ],
      "execution_count": 40,
      "outputs": []
    },
    {
      "cell_type": "code",
      "metadata": {
        "id": "tKhmwrQL-NXv"
      },
      "source": [
        "def train(inp, target):\r\n",
        "    hidden = decoder.init_hidden(batch_size)\r\n",
        "    if use_cuda:\r\n",
        "        hidden = hidden.cuda()\r\n",
        "    decoder.zero_grad()\r\n",
        "    loss = 0\r\n",
        "\r\n",
        "    for c in range(chunk_len):\r\n",
        "        output, hidden = decoder(inp[:,c], hidden)\r\n",
        "        loss += criterion(output.view(batch_size, -1), target[:,c])\r\n",
        "\r\n",
        "    loss.backward()\r\n",
        "    decoder_optimizer.step()\r\n",
        "\r\n",
        "    #Old version (doesn't support zero indexing)\r\n",
        "    #return loss.data[0] / chunk_len\r\n",
        "    return loss.data / chunk_len"
      ],
      "execution_count": 41,
      "outputs": []
    },
    {
      "cell_type": "markdown",
      "metadata": {
        "id": "Kl0ifPbj-W1N"
      },
      "source": [
        "###Train GRU:"
      ]
    },
    {
      "cell_type": "code",
      "metadata": {
        "colab": {
          "base_uri": "https://localhost:8080/"
        },
        "id": "7aUlT7UB-UCl",
        "outputId": "6de8ef47-9a79-4705-e106-66ce3bcb4bc7"
      },
      "source": [
        "start = time.time()\r\n",
        "all_losses = []\r\n",
        "loss_avg = 0\r\n",
        "\r\n",
        "print(\"Training for %d epochs...\" % n_epochs)\r\n",
        "for epoch in tqdm(range(1, n_epochs + 1)):\r\n",
        "    loss = train(*random_training_set(chunk_len, batch_size, data))\r\n",
        "    loss_avg += loss\r\n",
        "    all_losses.append(loss.item())\r\n",
        "    if epoch % print_every == 0:\r\n",
        "        print('[%s (%d %d%%) %.4f]' % (time_since(start), epoch, epoch / n_epochs * 100, loss))\r\n",
        "        print('loss: ', loss)\r\n",
        "        print(generate(decoder, 'Wh', 100, cuda=use_cuda), '\\n')"
      ],
      "execution_count": 42,
      "outputs": [
        {
          "output_type": "stream",
          "text": [
            "\r  0%|          | 0/2000 [00:00<?, ?it/s]"
          ],
          "name": "stderr"
        },
        {
          "output_type": "stream",
          "text": [
            "Training for 2000 epochs...\n"
          ],
          "name": "stdout"
        },
        {
          "output_type": "stream",
          "text": [
            "  5%|▌         | 100/2000 [01:13<23:31,  1.35it/s]"
          ],
          "name": "stderr"
        },
        {
          "output_type": "stream",
          "text": [
            "[1m 13s (100 5%) 1.7684]\n",
            "loss:  tensor(1.7684)\n",
            "Whe post:\n",
            "Or afceagay for the truck to good yor him to therefore I hands cany your stell and with tere \n",
            "\n"
          ],
          "name": "stdout"
        },
        {
          "output_type": "stream",
          "text": [
            " 10%|█         | 200/2000 [02:26<22:04,  1.36it/s]"
          ],
          "name": "stderr"
        },
        {
          "output_type": "stream",
          "text": [
            "[2m 26s (200 10%) 1.5859]\n",
            "loss:  tensor(1.5859)\n",
            "Wherer, and last thine\n",
            "A the worls of him, and in then came eyes of bosily\n",
            "They and plaintent three.\n",
            "\n",
            " \n",
            "\n"
          ],
          "name": "stdout"
        },
        {
          "output_type": "stream",
          "text": [
            " 15%|█▌        | 300/2000 [03:39<20:49,  1.36it/s]"
          ],
          "name": "stderr"
        },
        {
          "output_type": "stream",
          "text": [
            "[3m 39s (300 15%) 1.5212]\n",
            "loss:  tensor(1.5212)\n",
            "Where beriend seeter.\n",
            "\n",
            "PETRUCHIO:\n",
            "I cunsel'd the blood ours' two no time.\n",
            "\n",
            "QUEEN ELIZABETH:\n",
            "O dempting \n",
            "\n"
          ],
          "name": "stdout"
        },
        {
          "output_type": "stream",
          "text": [
            " 20%|██        | 400/2000 [04:51<19:53,  1.34it/s]"
          ],
          "name": "stderr"
        },
        {
          "output_type": "stream",
          "text": [
            "[4m 51s (400 20%) 1.4770]\n",
            "loss:  tensor(1.4770)\n",
            "Whus your hand, time of prayers with he's a right\n",
            "As lords, no all, my noble habfins?\n",
            "\n",
            "All:\n",
            "How please \n",
            "\n"
          ],
          "name": "stdout"
        },
        {
          "output_type": "stream",
          "text": [
            " 25%|██▌       | 500/2000 [06:03<18:28,  1.35it/s]"
          ],
          "name": "stderr"
        },
        {
          "output_type": "stream",
          "text": [
            "[6m 3s (500 25%) 1.4501]\n",
            "loss:  tensor(1.4501)\n",
            "Whemen hold with him to had us:\n",
            "Come them too mean are the prince, but the sorrow?\n",
            "What so me leave up \n",
            "\n"
          ],
          "name": "stdout"
        },
        {
          "output_type": "stream",
          "text": [
            " 30%|███       | 600/2000 [07:15<16:58,  1.37it/s]"
          ],
          "name": "stderr"
        },
        {
          "output_type": "stream",
          "text": [
            "[7m 15s (600 30%) 1.4219]\n",
            "loss:  tensor(1.4219)\n",
            "Wheast thou art common me him\n",
            "Shall breathe and lords contend to deques back?\n",
            "\n",
            "LADY ANNE:\n",
            "But for I st \n",
            "\n"
          ],
          "name": "stdout"
        },
        {
          "output_type": "stream",
          "text": [
            " 35%|███▌      | 700/2000 [08:27<15:59,  1.36it/s]"
          ],
          "name": "stderr"
        },
        {
          "output_type": "stream",
          "text": [
            "[8m 27s (700 35%) 1.4081]\n",
            "loss:  tensor(1.4081)\n",
            "Whis merry then suster of you,\n",
            "Thou sings their country to heaves, dark wail the crown\n",
            "Is supprily hat \n",
            "\n"
          ],
          "name": "stdout"
        },
        {
          "output_type": "stream",
          "text": [
            " 40%|████      | 800/2000 [09:38<14:33,  1.37it/s]"
          ],
          "name": "stderr"
        },
        {
          "output_type": "stream",
          "text": [
            "[9m 38s (800 40%) 1.4216]\n",
            "loss:  tensor(1.4216)\n",
            "Wherefled under it. He have should York;\n",
            "And to the rest stirry of villain,\n",
            "And begin it false. Well,  \n",
            "\n"
          ],
          "name": "stdout"
        },
        {
          "output_type": "stream",
          "text": [
            " 45%|████▌     | 900/2000 [10:49<13:15,  1.38it/s]"
          ],
          "name": "stderr"
        },
        {
          "output_type": "stream",
          "text": [
            "[10m 49s (900 45%) 1.3827]\n",
            "loss:  tensor(1.3827)\n",
            "Whomally said a said leave?\n",
            "\n",
            "ESCALUS:\n",
            "Why, he cannot I know the bawd.\n",
            "\n",
            "HORTENSIO:\n",
            "Sir, begreil to merc \n",
            "\n"
          ],
          "name": "stdout"
        },
        {
          "output_type": "stream",
          "text": [
            " 50%|█████     | 1000/2000 [12:01<11:57,  1.39it/s]"
          ],
          "name": "stderr"
        },
        {
          "output_type": "stream",
          "text": [
            "[12m 0s (1000 50%) 1.3741]\n",
            "loss:  tensor(1.3741)\n",
            "Wher, that I lord, that I cannot can love;\n",
            "And grings are themselves, with me, badly be half.\n",
            "\n",
            "QUEEN:\n",
            " \n",
            "\n"
          ],
          "name": "stdout"
        },
        {
          "output_type": "stream",
          "text": [
            " 55%|█████▌    | 1100/2000 [13:12<10:51,  1.38it/s]"
          ],
          "name": "stderr"
        },
        {
          "output_type": "stream",
          "text": [
            "[13m 12s (1100 55%) 1.3711]\n",
            "loss:  tensor(1.3711)\n",
            "Why, sir, and Lord Hasting and beggar.\n",
            "\n",
            "DUKE VINCENTIO:\n",
            "You have foull so our field?\n",
            "\n",
            "KING RICHARD III \n",
            "\n"
          ],
          "name": "stdout"
        },
        {
          "output_type": "stream",
          "text": [
            " 60%|██████    | 1200/2000 [14:23<09:34,  1.39it/s]"
          ],
          "name": "stderr"
        },
        {
          "output_type": "stream",
          "text": [
            "[14m 23s (1200 60%) 1.3675]\n",
            "loss:  tensor(1.3675)\n",
            "Whee this,? Woud,\n",
            "My ground and trudge a Buckingham, go him, though poor I lits.\n",
            "\n",
            "ROMEO:\n",
            "And I, are yo \n",
            "\n"
          ],
          "name": "stdout"
        },
        {
          "output_type": "stream",
          "text": [
            " 65%|██████▌   | 1300/2000 [15:34<08:28,  1.38it/s]"
          ],
          "name": "stderr"
        },
        {
          "output_type": "stream",
          "text": [
            "[15m 34s (1300 65%) 1.3915]\n",
            "loss:  tensor(1.3915)\n",
            "Whee my master's land, ado?\n",
            "\n",
            "MERCUTIO:\n",
            "Come men my disgreak above my good stoo\n",
            "at hand of shall serve  \n",
            "\n"
          ],
          "name": "stdout"
        },
        {
          "output_type": "stream",
          "text": [
            " 70%|███████   | 1400/2000 [16:45<07:18,  1.37it/s]"
          ],
          "name": "stderr"
        },
        {
          "output_type": "stream",
          "text": [
            "[16m 45s (1400 70%) 1.3810]\n",
            "loss:  tensor(1.3810)\n",
            "Whom confesses the deep of heart?\n",
            "\n",
            "First I have:\n",
            "For bitter than your night with his worn I be no more \n",
            "\n"
          ],
          "name": "stdout"
        },
        {
          "output_type": "stream",
          "text": [
            " 75%|███████▌  | 1500/2000 [17:56<05:58,  1.39it/s]"
          ],
          "name": "stderr"
        },
        {
          "output_type": "stream",
          "text": [
            "[17m 56s (1500 75%) 1.3739]\n",
            "loss:  tensor(1.3739)\n",
            "What's have been?\n",
            "\n",
            "AUFIDIUS:\n",
            "I do the satisf.\n",
            "\n",
            "ANGELO:\n",
            "A blows out stay at me to this goodling.\n",
            "Now ba \n",
            "\n"
          ],
          "name": "stdout"
        },
        {
          "output_type": "stream",
          "text": [
            " 80%|████████  | 1600/2000 [19:07<04:50,  1.37it/s]"
          ],
          "name": "stderr"
        },
        {
          "output_type": "stream",
          "text": [
            "[19m 7s (1600 80%) 1.3738]\n",
            "loss:  tensor(1.3738)\n",
            "What curst his parted but in common shall be\n",
            "signity on the friend. Let their will fall morribut\n",
            "I say \n",
            "\n"
          ],
          "name": "stdout"
        },
        {
          "output_type": "stream",
          "text": [
            " 85%|████████▌ | 1700/2000 [20:18<03:34,  1.40it/s]"
          ],
          "name": "stderr"
        },
        {
          "output_type": "stream",
          "text": [
            "[20m 18s (1700 85%) 1.3849]\n",
            "loss:  tensor(1.3849)\n",
            "What much invoterable study?\n",
            "\n",
            "OXFORD:\n",
            "These uncle hier days of me, I do pray thee;\n",
            "Yet me.\n",
            "\n",
            "GREMIO:\n",
            "I  \n",
            "\n"
          ],
          "name": "stdout"
        },
        {
          "output_type": "stream",
          "text": [
            " 90%|█████████ | 1800/2000 [21:28<02:30,  1.33it/s]"
          ],
          "name": "stderr"
        },
        {
          "output_type": "stream",
          "text": [
            "[21m 28s (1800 90%) 1.3596]\n",
            "loss:  tensor(1.3596)\n",
            "Which they they comes the view,\n",
            "If thou art to certain of sufferess twenty taper-\n",
            "Of to those night in \n",
            "\n"
          ],
          "name": "stdout"
        },
        {
          "output_type": "stream",
          "text": [
            " 95%|█████████▌| 1900/2000 [22:37<01:09,  1.43it/s]"
          ],
          "name": "stderr"
        },
        {
          "output_type": "stream",
          "text": [
            "[22m 37s (1900 95%) 1.3768]\n",
            "loss:  tensor(1.3768)\n",
            "Which so stain'd to the adprines:\n",
            "I enjoin'd.\n",
            "\n",
            "Clown:\n",
            "You have the as at a treasons unfortune;\n",
            "Thou wi \n",
            "\n"
          ],
          "name": "stdout"
        },
        {
          "output_type": "stream",
          "text": [
            "100%|██████████| 2000/2000 [23:47<00:00,  1.40it/s]"
          ],
          "name": "stderr"
        },
        {
          "output_type": "stream",
          "text": [
            "[23m 47s (2000 100%) 1.3388]\n",
            "loss:  tensor(1.3388)\n",
            "When storm'd him he's cup of ever\n",
            "That he done by his folery is,\n",
            "What left what thou that thought may  \n",
            "\n"
          ],
          "name": "stdout"
        },
        {
          "output_type": "stream",
          "text": [
            "\n"
          ],
          "name": "stderr"
        }
      ]
    },
    {
      "cell_type": "code",
      "metadata": {
        "colab": {
          "base_uri": "https://localhost:8080/",
          "height": 298
        },
        "id": "8eBqK64t-bhU",
        "outputId": "00420a7e-58dd-4ba5-948d-8d18308864d1"
      },
      "source": [
        "#Graph of Loss over t\r\n",
        "x = range(len(all_losses))\r\n",
        "plt.title(\"Loss over training of GRU\")\r\n",
        "plt.scatter(x, all_losses)"
      ],
      "execution_count": 43,
      "outputs": [
        {
          "output_type": "execute_result",
          "data": {
            "text/plain": [
              "<matplotlib.collections.PathCollection at 0x7f91c50d9b90>"
            ]
          },
          "metadata": {
            "tags": []
          },
          "execution_count": 43
        },
        {
          "output_type": "display_data",
          "data": {
            "image/png": "[encoded data removed]",
            "text/plain": [
              "<Figure size 432x288 with 1 Axes>"
            ]
          },
          "metadata": {
            "tags": [],
            "needs_background": "light"
          }
        }
      ]
    },
    {
      "cell_type": "markdown",
      "metadata": {
        "id": "jazoYpoMT6nq"
      },
      "source": [
        "###Samples generated for lowercase and uppercase alphabet"
      ]
    },
    {
      "cell_type": "code",
      "metadata": {
        "colab": {
          "base_uri": "https://localhost:8080/"
        },
        "id": "F49sEXQlT6nz",
        "outputId": "4945fb29-6c1d-4436-b463-22655efc8ee7"
      },
      "source": [
        "for c in ascii_lowercase:\r\n",
        "  print(\"GENERATED SAMPLE FOR: \"+c)\r\n",
        "  print(generate(decoder, c, 100, cuda=use_cuda), '\\n')\r\n",
        "\r\n",
        "for c in ascii_uppercase:\r\n",
        "  print(\"GENERATED SAMPLE FOR: \"+c)\r\n",
        "  print(generate(decoder, c, 100, cuda=use_cuda), '\\n')"
      ],
      "execution_count": 44,
      "outputs": [
        {
          "output_type": "stream",
          "text": [
            "GENERATED SAMPLE FOR: a\n",
            "ard and speak.\n",
            "\n",
            "Lord MOTwithinss and be stain,\n",
            "Looket the great cousin with thy goodly town;\n",
            "Why, the \n",
            "\n",
            "GENERATED SAMPLE FOR: b\n",
            "bling, nor their head thee:\n",
            "The dading more nothing of poor, and shall be sign of\n",
            "Of this days and sh \n",
            "\n",
            "GENERATED SAMPLE FOR: c\n",
            "cries to the calms,\n",
            "Which we'll be beak the way, being homely\n",
            "At the good will not his common'd to th \n",
            "\n",
            "GENERATED SAMPLE FOR: d\n",
            "d where that thy wife.\n",
            "\n",
            "HORTENSIO:\n",
            "And let the honour is your horse?\n",
            "Tell thee, and dissomention's bl \n",
            "\n",
            "GENERATED SAMPLE FOR: e\n",
            "e I did be beak, for her kindly\n",
            "As an own stirrance would was to the varlet\n",
            "Upon, in thine old in the \n",
            "\n",
            "GENERATED SAMPLE FOR: f\n",
            "fector, it streets are begn\n",
            "To prove your head so devised.\n",
            "He am I am turn'd, with the good Laurence, \n",
            "\n",
            "GENERATED SAMPLE FOR: g\n",
            "g kindrate thee thy vile.\n",
            "\n",
            "HASTINGS:\n",
            "Thy sumber the death should be a led before when there\n",
            "Or now la \n",
            "\n",
            "GENERATED SAMPLE FOR: h\n",
            "hy like prince, whence of his for.\n",
            "\n",
            "WARWICK:\n",
            "Commish, along, Lewis with him!\n",
            "\n",
            "MIRANDA:\n",
            "I do he is not \n",
            "\n",
            "GENERATED SAMPLE FOR: i\n",
            "ista like nighment\n",
            "Have three virtuous lords and accuse your cousin.\n",
            "\n",
            "AUTOLYCUS:\n",
            "What! How more?\n",
            "\n",
            "ARC \n",
            "\n",
            "GENERATED SAMPLE FOR: j\n",
            "joy's cursed friends and to told\n",
            "conselless discrope the days--from shall be joy,\n",
            "And thing of the li \n",
            "\n",
            "GENERATED SAMPLE FOR: k\n",
            "k and gone!\n",
            "\n",
            "LADY WARD:\n",
            "Ay, all thy virges, in the worst, that is and the queen.\n",
            "\n",
            "TRANIO:\n",
            "The points  \n",
            "\n",
            "GENERATED SAMPLE FOR: l\n",
            "l that state, how the standing not\n",
            "And straggers, therefore a pardon, to shelm, sir,\n",
            "A kiss our preci \n",
            "\n",
            "GENERATED SAMPLE FOR: m\n",
            "my gracious good cut,\n",
            "That voices his stay means and all my fingers:\n",
            "If ever he hateful time, sir, he \n",
            "\n",
            "GENERATED SAMPLE FOR: n\n",
            "ns.\n",
            "\n",
            "GLOUCESTER:\n",
            "It for your land secret again to be gone;\n",
            "But that I am shepherd's king.\n",
            "\n",
            "CORIOLANUS \n",
            "\n",
            "GENERATED SAMPLE FOR: o\n",
            "or?\n",
            "\n",
            "POLIXENES:\n",
            "More Annting, that Edward's bodies,\n",
            "I of mes do upon the lips with winds;\n",
            "And they ar \n",
            "\n",
            "GENERATED SAMPLE FOR: p\n",
            "par; you of voices.\n",
            "\n",
            "QUEEN ELIZABETH:\n",
            "We was that scape for the cause on thy tegnlect\n",
            "The wife of thr \n",
            "\n",
            "GENERATED SAMPLE FOR: q\n",
            "queend the\n",
            "better bid my past away. The rage thee at his best\n",
            "alle that we are the town that your bra \n",
            "\n",
            "GENERATED SAMPLE FOR: r\n",
            "rage, for his persons.\n",
            "\n",
            "AUTOLYCUS:\n",
            "For, that he were less to the send to thee that stand?\n",
            "\n",
            "KING EDWAR \n",
            "\n",
            "GENERATED SAMPLE FOR: s\n",
            "s\n",
            "And bred upon thee from your words,\n",
            "And beseech the great what's makes it: that that bow and when s \n",
            "\n",
            "GENERATED SAMPLE FOR: t\n",
            "tanced the night.\n",
            "\n",
            "RIVERS:\n",
            "Knock thou art give you say yours are or a breedic\n",
            "And therefore deedless' \n",
            "\n",
            "GENERATED SAMPLE FOR: u\n",
            "u to my friends to,\n",
            "Behold, look Somersemial, we are to\n",
            "thee, sir. I shall ground.\n",
            "\n",
            "MARCIUS:\n",
            "Happy sa \n",
            "\n",
            "GENERATED SAMPLE FOR: v\n",
            "ve the hardly hang for a\n",
            "man and the news shall speeding that are fly\n",
            "Approachers, any to with the we \n",
            "\n",
            "GENERATED SAMPLE FOR: w\n",
            "wound to die hath way with closest.\n",
            "\n",
            "FRIAR LAURENCE:\n",
            "Fell your head, I am content, for why, Thomas Sa \n",
            "\n",
            "GENERATED SAMPLE FOR: x\n",
            "xemio, and to take and love!\n",
            "Who hast the law your engreet endalty?\n",
            "\n",
            "WARWICK:\n",
            "Though thou march to do \n",
            "\n",
            "GENERATED SAMPLE FOR: y\n",
            "y.\n",
            "\n",
            "POLIXENES:\n",
            "How suhpicions? service, as another years,\n",
            "That which a gracious bride\n",
            "The man of him  \n",
            "\n",
            "GENERATED SAMPLE FOR: z\n",
            "zen the leavest of the great\n",
            "Of which thought of it to my person?\n",
            "\n",
            "POLIXENES:\n",
            "He knows and weeds;\n",
            "Who \n",
            "\n",
            "GENERATED SAMPLE FOR: A\n",
            "AND:\n",
            "My lord; but a master, thy chord, and will she were go\n",
            "As hadst thou in ancient name sufferuch,\n",
            " \n",
            "\n",
            "GENERATED SAMPLE FOR: B\n",
            "But will not our birth,\n",
            "A five of the depose to our father:\n",
            "And to be more brief, no, our will we wer \n",
            "\n",
            "GENERATED SAMPLE FOR: C\n",
            "CHIO:\n",
            "No things, should go with thee word,\n",
            "And like am I prosemity;\n",
            "His kings to himself as I did lov \n",
            "\n",
            "GENERATED SAMPLE FOR: D\n",
            "Diss to thy daughter:\n",
            "But if I, my words, tell liven'd come;\n",
            "For then hath struck shall weary.\n",
            "\n",
            "GREMI \n",
            "\n",
            "GENERATED SAMPLE FOR: E\n",
            "Eg niterment: ment to play, your tribunes,\n",
            "And no dares our servant: 'twere all you born.\n",
            "\n",
            "Lord Marsh \n",
            "\n",
            "GENERATED SAMPLE FOR: F\n",
            "First Lord:\n",
            "If you may spirit of the sea at his cold and one and have\n",
            "That down again. What had all t \n",
            "\n",
            "GENERATED SAMPLE FOR: G\n",
            "GADY A:\n",
            "Ay, with will in thy son, blows of say throw to rust.\n",
            "\n",
            "KING EDWARD IV:\n",
            "Quick distracty, first \n",
            "\n",
            "GENERATED SAMPLE FOR: H\n",
            "HENRY VI:\n",
            "Nort and an look him be succession:\n",
            "And thou dost to this plot,--\n",
            "\n",
            "MENENIUS:\n",
            "Not gone! who  \n",
            "\n",
            "GENERATED SAMPLE FOR: I\n",
            "IO:\n",
            "I pray, at a gabled from thy sweet\n",
            "With might the day to perfalty, will be keep to prove the\n",
            "fart \n",
            "\n",
            "GENERATED SAMPLE FOR: J\n",
            "JULIET:\n",
            "He's fair still us with the Montague.\n",
            "\n",
            "LADY ANNE:\n",
            "O, regard, I was his brow.\n",
            "\n",
            "CLARENCE:\n",
            "To my \n",
            "\n",
            "GENERATED SAMPLE FOR: K\n",
            "KE O:\n",
            "Give me thou wilt so Bolingbroke. But Henry fills by with\n",
            "the pastage worthine:\n",
            "The most ouden  \n",
            "\n",
            "GENERATED SAMPLE FOR: L\n",
            "LAUS:\n",
            "Now! What come in my kings great empleso?\n",
            "\n",
            "ANGELO:\n",
            "Why, they have sense not the father, the bre \n",
            "\n",
            "GENERATED SAMPLE FOR: M\n",
            "Monce to-morrow. Provost\n",
            "That we were to the rackness to be soldiers;\n",
            "There leave upon your bastard's \n",
            "\n",
            "GENERATED SAMPLE FOR: N\n",
            "No Mercutio, will see them.\n",
            "Look, that we have came to him possible!\n",
            "\n",
            "HORTENSIO:\n",
            "I' the king, though  \n",
            "\n",
            "GENERATED SAMPLE FOR: O\n",
            "OO:\n",
            "Why struck forbless Very well content,\n",
            "Bidow him and strail thy happy brideth the worsed,\n",
            "Sin sol \n",
            "\n",
            "GENERATED SAMPLE FOR: P\n",
            "PULET:\n",
            "Not the will be picking the steadless are\n",
            "Friard the worn to policy.'\n",
            "\n",
            "WARWICK:\n",
            "And before be  \n",
            "\n",
            "GENERATED SAMPLE FOR: Q\n",
            "QUEEN ELIZABETH:\n",
            "What distress your conscantly and by our Capulisted by\n",
            "Betwixt thy braces of this wi \n",
            "\n",
            "GENERATED SAMPLE FOR: R\n",
            "RICHARD:\n",
            "Now, let it is like and my life thereby by\n",
            "me both himself to the bred Vophail weeds,\n",
            "That h \n",
            "\n",
            "GENERATED SAMPLE FOR: S\n",
            "Swerid him.\n",
            "\n",
            "CORIOLANUS:\n",
            "O, to you, I is't the\n",
            "the two my fortuning in and my father,\n",
            "As by full of t \n",
            "\n",
            "GENERATED SAMPLE FOR: T\n",
            "To friends fool's manisted mother's bed?\n",
            "\n",
            "MENENIUS:\n",
            "And side, have thereors! the princting upon the e \n",
            "\n",
            "GENERATED SAMPLE FOR: U\n",
            "US:\n",
            "There would like my sword, that is to him, let my bawd,\n",
            "And thou hast all their brother pray nigh \n",
            "\n",
            "GENERATED SAMPLE FOR: V\n",
            "VI:\n",
            "I'll tell hither and thee of your foul was\n",
            "And have well in war to infect him Jupit,\n",
            "She would a  \n",
            "\n",
            "GENERATED SAMPLE FOR: W\n",
            "What.\n",
            "\n",
            "MENENIUS:\n",
            "They have plot it ladies; and could be, to the forgot and rather.\n",
            "\n",
            "AUTOLYBUNTENS:\n",
            "Ye \n",
            "\n",
            "GENERATED SAMPLE FOR: X\n",
            "XELIEL:\n",
            "Now, let it not thing to this nature.\n",
            "\n",
            "CORIOLANUS:\n",
            "God be not town, for bite thy best\n",
            "Importl \n",
            "\n",
            "GENERATED SAMPLE FOR: Y\n",
            "YR:\n",
            "It find the duke with your house. And fornid and mercy.\n",
            "\n",
            "JOHN OF GAUNT:\n",
            "The tribunes to the noble \n",
            "\n",
            "GENERATED SAMPLE FOR: Z\n",
            "ZUBELET:\n",
            "Your her woo's have one that art Elbow the tries.\n",
            "I have for the sunded of the traitor; we a \n",
            "\n"
          ],
          "name": "stdout"
        }
      ]
    },
    {
      "cell_type": "markdown",
      "metadata": {
        "id": "GCh0qpMEzo1m"
      },
      "source": [
        "# #3.5 Comparision between Vanilla RNN and GRU RNN on Shakespeare Dataset\r\n",
        "- Loss was lower for the GRU (~1.3 for GRU vs. ~1.4 for RNN)\r\n",
        "- In my opinon, the samples generated by the GRU were better than the ones generated by the Vanilla RNN. The GRU samples seemed to have a better usage of punctuation, capital vs. lower case letters and realistic word length. Also, I personally thought the GRU had somewhat better grammar than the vanilla RNN (even though some of the words were made up)."
      ]
    },
    {
      "cell_type": "markdown",
      "metadata": {
        "id": "Fxh3T_QDmuka"
      },
      "source": [
        "# #4 King James Bible Training GRU RNN"
      ]
    },
    {
      "cell_type": "code",
      "metadata": {
        "id": "E2VMnbufmtmA",
        "colab": {
          "base_uri": "https://localhost:8080/"
        },
        "outputId": "415b0973-3e8d-4aa5-d790-7ea5c2db9418"
      },
      "source": [
        "target_url = \"https://raw.githubusercontent.com/ErikSchierboom/sentencegenerator/master/samples/the-king-james-bible.txt\"\r\n",
        "data = DownloadFile(target_url)\r\n",
        "#print(random_training_set(10, 8, data))\r\n",
        "print(data[10:100])"
      ],
      "execution_count": 49,
      "outputs": [
        {
          "output_type": "stream",
          "text": [
            " Book of Moses:  Called Genesis\n",
            "\n",
            "\n",
            "1:1 In the beginning God created the heaven and the eart\n"
          ],
          "name": "stdout"
        }
      ]
    },
    {
      "cell_type": "markdown",
      "metadata": {
        "id": "fBjMa6hnYLwu"
      },
      "source": [
        "###Initialize Model"
      ]
    },
    {
      "cell_type": "code",
      "metadata": {
        "id": "sE6wLlihYLwx"
      },
      "source": [
        "hidden_size = 100\r\n",
        "learning_rate = 0.01\r\n",
        "cell = \"gru\"\r\n",
        "n_layers = 2\r\n",
        "\r\n",
        "decoder = CharRNN(\r\n",
        "    n_characters,\r\n",
        "    hidden_size,\r\n",
        "    n_characters,\r\n",
        "    model=cell,\r\n",
        "    n_layers=n_layers,\r\n",
        ")\r\n",
        "decoder_optimizer = torch.optim.Adam(decoder.parameters(), lr=learning_rate)\r\n",
        "criterion = nn.CrossEntropyLoss()\r\n",
        "\r\n",
        "if use_cuda:\r\n",
        "    decoder.cuda()"
      ],
      "execution_count": 50,
      "outputs": []
    },
    {
      "cell_type": "code",
      "metadata": {
        "id": "Mly7PR9MYLwy"
      },
      "source": [
        "n_epochs = 2000\r\n",
        "chunk_len = 200\r\n",
        "print_every = 100\r\n",
        "batch_size = 100"
      ],
      "execution_count": 51,
      "outputs": []
    },
    {
      "cell_type": "code",
      "metadata": {
        "id": "8e-NBienYLwy"
      },
      "source": [
        "def train(inp, target):\r\n",
        "    hidden = decoder.init_hidden(batch_size)\r\n",
        "    if use_cuda:\r\n",
        "        hidden = hidden.cuda()\r\n",
        "    decoder.zero_grad()\r\n",
        "    loss = 0\r\n",
        "\r\n",
        "    for c in range(chunk_len):\r\n",
        "        output, hidden = decoder(inp[:,c], hidden)\r\n",
        "        loss += criterion(output.view(batch_size, -1), target[:,c])\r\n",
        "\r\n",
        "    loss.backward()\r\n",
        "    decoder_optimizer.step()\r\n",
        "\r\n",
        "    #Old version (doesn't support zero indexing)\r\n",
        "    #return loss.data[0] / chunk_len\r\n",
        "    return loss.data / chunk_len"
      ],
      "execution_count": 52,
      "outputs": []
    },
    {
      "cell_type": "markdown",
      "metadata": {
        "id": "jRdyKJFvYQjx"
      },
      "source": [
        "###Train GRU with King Jame's Bible"
      ]
    },
    {
      "cell_type": "code",
      "metadata": {
        "colab": {
          "base_uri": "https://localhost:8080/"
        },
        "id": "i5tgNG0fOB0u",
        "outputId": "d978b5a8-aeb8-4616-da52-780b1f5d1177"
      },
      "source": [
        "#TRAIN GRU with King James Bible:\r\n",
        "start = time.time()\r\n",
        "all_losses = []\r\n",
        "loss_avg = 0\r\n",
        "\r\n",
        "print(\"Training for %d epochs...\" % n_epochs)\r\n",
        "for epoch in tqdm(range(1, n_epochs + 1)):\r\n",
        "    loss = train(*random_training_set(chunk_len, batch_size, data))\r\n",
        "    loss_avg += loss\r\n",
        "    all_losses.append(loss.item())\r\n",
        "    if epoch % print_every == 0:\r\n",
        "        print('[%s (%d %d%%) %.4f]' % (time_since(start), epoch, epoch / n_epochs * 100, loss))\r\n",
        "        print('loss: ', loss)\r\n",
        "        print(generate(decoder, 'Wh', 100, cuda=use_cuda), '\\n')"
      ],
      "execution_count": 53,
      "outputs": [
        {
          "output_type": "stream",
          "text": [
            "\r  0%|          | 0/2000 [00:00<?, ?it/s]"
          ],
          "name": "stderr"
        },
        {
          "output_type": "stream",
          "text": [
            "Training for 2000 epochs...\n"
          ],
          "name": "stdout"
        },
        {
          "output_type": "stream",
          "text": [
            "  5%|▌         | 100/2000 [01:11<22:53,  1.38it/s]"
          ],
          "name": "stderr"
        },
        {
          "output_type": "stream",
          "text": [
            "[1m 11s (100 5%) 1.5699]\n",
            "loss:  tensor(1.5699)\n",
            "Whied a tought\n",
            "fup.\n",
            "\n",
            "28:33 And Jerusarose, let of Dave they unto the gon, which hath of\n",
            "bring the song \n",
            "\n"
          ],
          "name": "stdout"
        },
        {
          "output_type": "stream",
          "text": [
            " 10%|█         | 200/2000 [02:22<22:13,  1.35it/s]"
          ],
          "name": "stderr"
        },
        {
          "output_type": "stream",
          "text": [
            "[2m 22s (200 10%) 1.3697]\n",
            "loss:  tensor(1.3697)\n",
            "Wherefore the earth, he were to Habashals, and debleining the\n",
            "land, people to breaven; but thy days sh \n",
            "\n"
          ],
          "name": "stdout"
        },
        {
          "output_type": "stream",
          "text": [
            " 15%|█▌        | 300/2000 [03:32<20:33,  1.38it/s]"
          ],
          "name": "stderr"
        },
        {
          "output_type": "stream",
          "text": [
            "[3m 32s (300 15%) 1.2704]\n",
            "loss:  tensor(1.2704)\n",
            "Whose it, and their saw the\n",
            "combe as it her and the world also were fall of into the land shall be a s \n",
            "\n"
          ],
          "name": "stdout"
        },
        {
          "output_type": "stream",
          "text": [
            " 20%|██        | 400/2000 [04:42<19:00,  1.40it/s]"
          ],
          "name": "stderr"
        },
        {
          "output_type": "stream",
          "text": [
            "[4m 42s (400 20%) 1.2399]\n",
            "loss:  tensor(1.2399)\n",
            "Whempind that I made the morning and debitants.\n",
            "\n",
            "19:12 And it, and valluath, let us in the cattle with \n",
            "\n"
          ],
          "name": "stdout"
        },
        {
          "output_type": "stream",
          "text": [
            " 25%|██▌       | 500/2000 [05:54<18:29,  1.35it/s]"
          ],
          "name": "stderr"
        },
        {
          "output_type": "stream",
          "text": [
            "[5m 54s (500 25%) 1.2635]\n",
            "loss:  tensor(1.2635)\n",
            "Whatsoever in the lamed up\n",
            "year of every preceive, who stoned, bring the well shall be a\n",
            "seventh that  \n",
            "\n"
          ],
          "name": "stdout"
        },
        {
          "output_type": "stream",
          "text": [
            " 30%|███       | 600/2000 [07:05<16:58,  1.37it/s]"
          ],
          "name": "stderr"
        },
        {
          "output_type": "stream",
          "text": [
            "[7m 5s (600 30%) 1.2205]\n",
            "loss:  tensor(1.2205)\n",
            "Wheebered be one of the\n",
            "nead.\n",
            "\n",
            "19:25 The sons of Israel shall be a man that with all the\n",
            "land of Shemo \n",
            "\n"
          ],
          "name": "stdout"
        },
        {
          "output_type": "stream",
          "text": [
            " 35%|███▌      | 700/2000 [08:16<15:27,  1.40it/s]"
          ],
          "name": "stderr"
        },
        {
          "output_type": "stream",
          "text": [
            "[8m 16s (700 35%) 1.2154]\n",
            "loss:  tensor(1.2154)\n",
            "Wheel said unto her, As that the LORD shall discord unto all they gospel.\n",
            "\n",
            "9:10 When he been the earth \n",
            "\n"
          ],
          "name": "stdout"
        },
        {
          "output_type": "stream",
          "text": [
            " 40%|████      | 800/2000 [09:26<14:10,  1.41it/s]"
          ],
          "name": "stderr"
        },
        {
          "output_type": "stream",
          "text": [
            "[9m 26s (800 40%) 1.1671]\n",
            "loss:  tensor(1.1671)\n",
            "What themselves of the LORD a visite him.\n",
            "\n",
            "33:15 And Joseph much man locks, and ye shall I lifes spake \n",
            "\n"
          ],
          "name": "stdout"
        },
        {
          "output_type": "stream",
          "text": [
            " 45%|████▌     | 900/2000 [10:35<13:02,  1.41it/s]"
          ],
          "name": "stderr"
        },
        {
          "output_type": "stream",
          "text": [
            "[10m 35s (900 45%) 1.1811]\n",
            "loss:  tensor(1.1811)\n",
            "Whose answered with\n",
            "the LORD of Moses, there shete ears, therefore the destroy these day of thy days.\n",
            " \n",
            "\n"
          ],
          "name": "stdout"
        },
        {
          "output_type": "stream",
          "text": [
            " 50%|█████     | 1000/2000 [11:45<11:52,  1.40it/s]"
          ],
          "name": "stderr"
        },
        {
          "output_type": "stream",
          "text": [
            "[11m 45s (1000 50%) 1.1699]\n",
            "loss:  tensor(1.1699)\n",
            "When they been the\n",
            "son of Anth he shall be of the delivered bread.\n",
            "\n",
            "33:4 For they shall commanded us w \n",
            "\n"
          ],
          "name": "stdout"
        },
        {
          "output_type": "stream",
          "text": [
            " 55%|█████▌    | 1100/2000 [12:54<10:33,  1.42it/s]"
          ],
          "name": "stderr"
        },
        {
          "output_type": "stream",
          "text": [
            "[12m 54s (1100 55%) 1.1609]\n",
            "loss:  tensor(1.1609)\n",
            "When all the light of the\n",
            "drink: and he righteous left some of his hills.\n",
            "\n",
            "3:9 And thou hast not sat m \n",
            "\n"
          ],
          "name": "stdout"
        },
        {
          "output_type": "stream",
          "text": [
            " 60%|██████    | 1200/2000 [14:03<09:25,  1.41it/s]"
          ],
          "name": "stderr"
        },
        {
          "output_type": "stream",
          "text": [
            "[14m 3s (1200 60%) 1.1859]\n",
            "loss:  tensor(1.1859)\n",
            "Whemen\n",
            "the world whom then will build me accovertward by the day shall\n",
            "but not him, appeared the fools \n",
            "\n"
          ],
          "name": "stdout"
        },
        {
          "output_type": "stream",
          "text": [
            " 65%|██████▌   | 1300/2000 [15:12<08:26,  1.38it/s]"
          ],
          "name": "stderr"
        },
        {
          "output_type": "stream",
          "text": [
            "[15m 12s (1300 65%) 1.1513]\n",
            "loss:  tensor(1.1513)\n",
            "Whithe generation shall be learn\n",
            "entering: and they ship shall slad imson that was with him read\n",
            "the e \n",
            "\n"
          ],
          "name": "stdout"
        },
        {
          "output_type": "stream",
          "text": [
            " 70%|███████   | 1400/2000 [16:21<06:53,  1.45it/s]"
          ],
          "name": "stderr"
        },
        {
          "output_type": "stream",
          "text": [
            "[16m 21s (1400 70%) 1.1325]\n",
            "loss:  tensor(1.1325)\n",
            "What the nation of the sword, and which is not his cities of said unto the hand of the LORD, and he la \n",
            "\n"
          ],
          "name": "stdout"
        },
        {
          "output_type": "stream",
          "text": [
            " 75%|███████▌  | 1500/2000 [17:29<05:44,  1.45it/s]"
          ],
          "name": "stderr"
        },
        {
          "output_type": "stream",
          "text": [
            "[17m 29s (1500 75%) 1.1776]\n",
            "loss:  tensor(1.1776)\n",
            "Whengeloch the Father, and took a country on the old spirit.\n",
            "\n",
            "2:25 For they place the God of God, and  \n",
            "\n"
          ],
          "name": "stdout"
        },
        {
          "output_type": "stream",
          "text": [
            " 80%|████████  | 1600/2000 [18:38<04:37,  1.44it/s]"
          ],
          "name": "stderr"
        },
        {
          "output_type": "stream",
          "text": [
            "[18m 38s (1600 80%) 1.1451]\n",
            "loss:  tensor(1.1451)\n",
            "Where into the way\n",
            "appointified the name of the LORD.\n",
            "\n",
            "21:21 For the LORD said, A waters of the LORD f \n",
            "\n"
          ],
          "name": "stdout"
        },
        {
          "output_type": "stream",
          "text": [
            " 85%|████████▌ | 1700/2000 [19:47<03:30,  1.42it/s]"
          ],
          "name": "stderr"
        },
        {
          "output_type": "stream",
          "text": [
            "[19m 47s (1700 85%) 1.1316]\n",
            "loss:  tensor(1.1316)\n",
            "What thou it shall be stames, even it in one fear our clees with the bancher,\n",
            "and prayer of Michan, an \n",
            "\n"
          ],
          "name": "stdout"
        },
        {
          "output_type": "stream",
          "text": [
            " 90%|█████████ | 1800/2000 [20:55<02:18,  1.45it/s]"
          ],
          "name": "stderr"
        },
        {
          "output_type": "stream",
          "text": [
            "[20m 55s (1800 90%) 1.1607]\n",
            "loss:  tensor(1.1607)\n",
            "When the same voice, and fifty thousand\n",
            "out of the fourth wicked of hosts, and said, Cherily and his d \n",
            "\n"
          ],
          "name": "stdout"
        },
        {
          "output_type": "stream",
          "text": [
            " 95%|█████████▌| 1900/2000 [22:04<01:09,  1.43it/s]"
          ],
          "name": "stderr"
        },
        {
          "output_type": "stream",
          "text": [
            "[22m 4s (1900 95%) 1.1250]\n",
            "loss:  tensor(1.1250)\n",
            "When they shall the prophet, the Pershech hath\n",
            "heard all the wilderness accordities, and all there and \n",
            "\n"
          ],
          "name": "stdout"
        },
        {
          "output_type": "stream",
          "text": [
            "100%|██████████| 2000/2000 [23:12<00:00,  1.44it/s]"
          ],
          "name": "stderr"
        },
        {
          "output_type": "stream",
          "text": [
            "[23m 12s (2000 100%) 1.1412]\n",
            "loss:  tensor(1.1412)\n",
            "Which to thy disciples' father's heaven and\n",
            "thy sick, and I am ready are perish. And Elihman took upon \n",
            "\n"
          ],
          "name": "stdout"
        },
        {
          "output_type": "stream",
          "text": [
            "\n"
          ],
          "name": "stderr"
        }
      ]
    },
    {
      "cell_type": "code",
      "metadata": {
        "colab": {
          "base_uri": "https://localhost:8080/",
          "height": 298
        },
        "id": "7nEVhB_QPW6a",
        "outputId": "5b6595a0-ece6-4c08-b119-8d3864f93df0"
      },
      "source": [
        "#Graph of Loss over t\r\n",
        "x = range(len(all_losses))\r\n",
        "plt.title(\"Loss over training of GRU for King James Bible\")\r\n",
        "plt.scatter(x, all_losses)"
      ],
      "execution_count": 54,
      "outputs": [
        {
          "output_type": "execute_result",
          "data": {
            "text/plain": [
              "<matplotlib.collections.PathCollection at 0x7f91c4fd1c90>"
            ]
          },
          "metadata": {
            "tags": []
          },
          "execution_count": 54
        },
        {
          "output_type": "display_data",
          "data": {
            "image/png": "[encoded data removed]",
            "text/plain": [
              "<Figure size 432x288 with 1 Axes>"
            ]
          },
          "metadata": {
            "tags": [],
            "needs_background": "light"
          }
        }
      ]
    },
    {
      "cell_type": "markdown",
      "metadata": {
        "id": "VA0pmen4Ssc2"
      },
      "source": [
        "###Samples generated for lowercase and uppercase alphabet"
      ]
    },
    {
      "cell_type": "code",
      "metadata": {
        "colab": {
          "base_uri": "https://localhost:8080/"
        },
        "id": "RtCYQJEaRohx",
        "outputId": "29a98b04-2cf8-4490-dbf0-c1e194e10daa"
      },
      "source": [
        "for c in ascii_lowercase:\r\n",
        "  print(\"GENERATED SAMPLE FOR: \"+c)\r\n",
        "  print(generate(decoder, c, 100, cuda=use_cuda), '\\n')\r\n",
        "\r\n",
        "for c in ascii_uppercase:\r\n",
        "  print(\"GENERATED SAMPLE FOR: \"+c)\r\n",
        "  print(generate(decoder, c, 100, cuda=use_cuda), '\\n')"
      ],
      "execution_count": 55,
      "outputs": [
        {
          "output_type": "stream",
          "text": [
            "GENERATED SAMPLE FOR: a\n",
            "and of Jacob also\n",
            "shall be on the man year, that the LORD took the overlai reigned of\n",
            "silent for the  \n",
            "\n",
            "GENERATED SAMPLE FOR: b\n",
            "be to the\n",
            "waters of Zebulun.\n",
            "\n",
            "5:1 The soul of the tabernacle of the dead and unto them by his salvati \n",
            "\n",
            "GENERATED SAMPLE FOR: c\n",
            "carketh thee, and not the sons of Amorecomay: 7:5 And\n",
            "Simeon the trespass shall be men of the Levites \n",
            "\n",
            "GENERATED SAMPLE FOR: d\n",
            "d a children came, and we be reachelour, and kill\n",
            "the heart: and she went away, neither that sacrific \n",
            "\n",
            "GENERATED SAMPLE FOR: e\n",
            "ed, and purple of the fourhelks, and believed in\n",
            "him.\n",
            "\n",
            "51:40 If the heave of the wisdom of the walls  \n",
            "\n",
            "GENERATED SAMPLE FOR: f\n",
            "f the end\n",
            "of the enemy of the man in the flesh, neither were not fintest\n",
            "to the secret of the flesh;  \n",
            "\n",
            "GENERATED SAMPLE FOR: g\n",
            "goeased age unto the other redeepron.\n",
            "\n",
            "39:1 Therefore which much may be as from God, nor men of hosts \n",
            "\n",
            "GENERATED SAMPLE FOR: h\n",
            "hey against the breakest them, and in the same\n",
            "will let thee your lord Jeremiah the house; but they w \n",
            "\n",
            "GENERATED SAMPLE FOR: i\n",
            "ination: and thou hast\n",
            "long shall they laid and have numbracle of God were none charged out\n",
            "of the st \n",
            "\n",
            "GENERATED SAMPLE FOR: j\n",
            "jah anger and the eals, if I hath\n",
            "bloodeth about was made to the days of a prophets unto me.\n",
            "\n",
            "12:7 Th \n",
            "\n",
            "GENERATED SAMPLE FOR: k\n",
            "ke of thy people\n",
            "old.\n",
            "\n",
            "24:16 Now the land of Esaknes that are saints, what thou hath\n",
            "you away unto th \n",
            "\n",
            "GENERATED SAMPLE FOR: l\n",
            "ld with all the watch of the land of Egypt: and the fephturch made by\n",
            "the commandparteth observes is  \n",
            "\n",
            "GENERATED SAMPLE FOR: m\n",
            "m the sons of Assyria which were were not he for thy supplications:) and they place it,\n",
            "and which I s \n",
            "\n",
            "GENERATED SAMPLE FOR: n\n",
            "nd lay the people about the earth of God, then I will take not to\n",
            "the wall of Judah, and hand deliver \n",
            "\n",
            "GENERATED SAMPLE FOR: o\n",
            "of the land of Judah's son said unto Nethael, Where he had\n",
            "bless the well, and of the inhabitants of  \n",
            "\n",
            "GENERATED SAMPLE FOR: p\n",
            "p thou didst thou shaken of the ephod to his land, and so that they know that for\n",
            "me, seel thou were  \n",
            "\n",
            "GENERATED SAMPLE FOR: q\n",
            "quak of the water of the LORD death\n",
            "in a wall go, that his harps, where they had know that I will kep \n",
            "\n",
            "GENERATED SAMPLE FOR: r\n",
            "r\n",
            "Eliel, and Abimahad, and my seed: and the men of Israel had set nought\n",
            "returned away from the capta \n",
            "\n",
            "GENERATED SAMPLE FOR: s\n",
            "s, or fled to go, that I will he spake to\n",
            "desolate and his heart, and brought the men of Israel.\n",
            "\n",
            "15: \n",
            "\n",
            "GENERATED SAMPLE FOR: t\n",
            "the LORD\n",
            "may be written to the Levites that passeth before thee.\n",
            "\n",
            "7:19 And they were sauth them; and  \n",
            "\n",
            "GENERATED SAMPLE FOR: u\n",
            "urst with the flock, and the most were quieted; and his wives be\n",
            "the four had probens upon a eat a fl \n",
            "\n",
            "GENERATED SAMPLE FOR: v\n",
            "ver will not mine enemies, and\n",
            "shewed were these an in the midst of the earth them.\n",
            "\n",
            "25:12 And the pa \n",
            "\n",
            "GENERATED SAMPLE FOR: w\n",
            "which may be so every man unto the other one going\n",
            "of the light of Pethite; I will bring the fourth m \n",
            "\n",
            "GENERATED SAMPLE FOR: x\n",
            "x callow it\n",
            "war their words and their families and his dead, that every\n",
            "clothes, which the LORD shall \n",
            "\n",
            "GENERATED SAMPLE FOR: y\n",
            "y and the way of the two hour they\n",
            "neighbour day, and thou shalt not be a fire?  20:4 And his mine ea \n",
            "\n",
            "GENERATED SAMPLE FOR: z\n",
            "z of the Jesus and said, she sent up commother and twenty year of\n",
            "these that were to come to pass, an \n",
            "\n",
            "GENERATED SAMPLE FOR: A\n",
            "And Jehosel, saying, Lo, I will he saw them by the\n",
            "same thee this friend, every cities which is blowa \n",
            "\n",
            "GENERATED SAMPLE FOR: B\n",
            "But was the\n",
            "chambers unto the golden in one veid, and the litten of the LORD\n",
            "shall be for doked, and  \n",
            "\n",
            "GENERATED SAMPLE FOR: C\n",
            "Comple and opened your daughters of the bondage, and to\n",
            "weary our name.\n",
            "\n",
            "119:4 Thou centurion shall b \n",
            "\n",
            "GENERATED SAMPLE FOR: D\n",
            "D for the land the law: and he said unto them, This is the elder blessed him,\n",
            "the spirit themselves d \n",
            "\n",
            "GENERATED SAMPLE FOR: E\n",
            "Ephesuren of Israel.\n",
            "\n",
            "103:13 Then Searon and Israel had numbered and go into the\n",
            "people undersmained  \n",
            "\n",
            "GENERATED SAMPLE FOR: F\n",
            "For my name, came not unto the watless of God will gathered her uncleanness, as yet when the sinner w \n",
            "\n",
            "GENERATED SAMPLE FOR: G\n",
            "God with great scripub, and which will I offered.\n",
            "\n",
            "8:10 I will be weep with Abram and Abraham, that t \n",
            "\n",
            "GENERATED SAMPLE FOR: H\n",
            "Hamaria the son of Assyria, the son of Zeriophiel, saith the LORD,\n",
            "and yet should been heard the peac \n",
            "\n",
            "GENERATED SAMPLE FOR: I\n",
            "I was come to peace, and will I cut by the\n",
            "hedge concerning up to walk of the country of the hand of  \n",
            "\n",
            "GENERATED SAMPLE FOR: J\n",
            "Jeariasee unto the wat of them? Israel your face of\n",
            "the mountains about; but he shall be after, the k \n",
            "\n",
            "GENERATED SAMPLE FOR: K\n",
            "Kaanite is in the temple of Israel among you,\n",
            "and come counselven as a good the wildeons'.\n",
            "\n",
            "1:11 And  \n",
            "\n",
            "GENERATED SAMPLE FOR: L\n",
            "LORD toward the word of the LORD, the fourth had\n",
            "faith unto thy day.\n",
            "\n",
            "4:16 All thou shalt not shew th \n",
            "\n",
            "GENERATED SAMPLE FOR: M\n",
            "Magned the book of\n",
            "the inhabitants, and that she ask his names, and of him that come\n",
            "to none, and rei \n",
            "\n",
            "GENERATED SAMPLE FOR: N\n",
            "Neborn song are to\n",
            "the king's law, and called them that four good before all truth:\n",
            "sentem when the L \n",
            "\n",
            "GENERATED SAMPLE FOR: O\n",
            "ORD my God, and that kill the nations also return, according to the water of the shoulder,\n",
            "and your s \n",
            "\n",
            "GENERATED SAMPLE FOR: P\n",
            "Perass it, and Moses took Talphatia, hithing shall bear him: or selled\n",
            "up to the ewe of Sleachen, who \n",
            "\n",
            "GENERATED SAMPLE FOR: Q\n",
            "Q/w of thy sake\n",
            "any thing than the morning affliction down used into the right house\n",
            "at Nebua: and Re \n",
            "\n",
            "GENERATED SAMPLE FOR: R\n",
            "RD wax commanded them, for the defil hath we say unto them, I have\n",
            "your bllowds shew thee a desert co \n",
            "\n",
            "GENERATED SAMPLE FOR: S\n",
            "Shaded Jerusalem, and kill the land of\n",
            "the wildrings with our bed, and the lefts of the understand th \n",
            "\n",
            "GENERATED SAMPLE FOR: T\n",
            "The law of the house of thy sackls; and thou\n",
            "art with the sabbath, and the twelve things, O the deeds \n",
            "\n",
            "GENERATED SAMPLE FOR: U\n",
            "Uungldment, and to kill\n",
            "their tents, to see the families of Hazael, and came, and walked also\n",
            "with fo \n",
            "\n",
            "GENERATED SAMPLE FOR: V\n",
            "Veration.\n",
            "\n",
            "74:9 Come like their seed were carried them that had not our eyes.\n",
            "\n",
            "15:19 The way of Dedep \n",
            "\n",
            "GENERATED SAMPLE FOR: W\n",
            "Whereins also had as oucheth down all the face of the people.\n",
            "\n",
            "53:6 The priest shall see the earth, w \n",
            "\n",
            "GENERATED SAMPLE FOR: X\n",
            "X not the land of the Gentiles, and the chamberlains of hosts unto Judah,\n",
            "14:13 And the half of the c \n",
            "\n",
            "GENERATED SAMPLE FOR: Y\n",
            "Ye went down against\n",
            "the glory of God.\n",
            "\n",
            "10:45 But he deceive it for ever: 10:17 The children of\n",
            "Israe \n",
            "\n",
            "GENERATED SAMPLE FOR: Z\n",
            "Zed.\n",
            "\n",
            "7:29 But all the children of Israel had dried the Onesh, and the\n",
            "ruling of the sons of Jebua.\n",
            "\n",
            " \n",
            "\n"
          ],
          "name": "stdout"
        }
      ]
    },
    {
      "cell_type": "markdown",
      "metadata": {
        "id": "Fv3ETffp0qUg"
      },
      "source": [
        "# #4.5 Comparison between Bible vs. Shakespeare GRU\r\n",
        "- The loss was lower when we trained the GRU using the king James bible (~1.1 for bible vs. ~1.3 for shakespeare)\r\n",
        "- As for the realisticness of the samples, it is hard to compare the two because they have very different writing styles. However the bible GRU did learn how to use numbers (ie. 2:32) and does seem to generate realistic names of charecters in the bible. The shakespeare one, similarly, generates realisticly formated diaglouge and also generates realistic charecter names at times."
      ]
    }
  ]
}